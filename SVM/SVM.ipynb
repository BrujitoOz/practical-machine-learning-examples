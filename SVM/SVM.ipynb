{
 "cells": [
  {
   "cell_type": "markdown",
   "metadata": {},
   "source": [
    "# SVM "
   ]
  },
  {
   "cell_type": "code",
   "execution_count": 1,
   "metadata": {},
   "outputs": [],
   "source": [
    "import pandas as pd\n",
    "import matplotlib.pyplot as plt\n",
    "import seaborn as sns\n",
    "import numpy as np\n",
    "import scipy.stats as ss\n",
    "from scipy.stats import chi2_contingency\n",
    "from sklearn.model_selection import train_test_split\n",
    "from sklearn.svm import SVC\n",
    "from sklearn.metrics import classification_report, confusion_matrix\n",
    "from sklearn.metrics import plot_confusion_matrix\n",
    "from sklearn.metrics import roc_curve, auc, roc_auc_score\n",
    "from sklearn.preprocessing import StandardScaler\n",
    "from sklearn.preprocessing import LabelEncoder\n",
    "from sklearn.model_selection import cross_val_score\n",
    "from sklearn.model_selection import GridSearchCV"
   ]
  },
  {
   "cell_type": "code",
   "execution_count": 2,
   "metadata": {},
   "outputs": [],
   "source": [
    "data = pd.read_csv('../bank_deposit.csv')"
   ]
  },
  {
   "cell_type": "code",
   "execution_count": 4,
   "metadata": {},
   "outputs": [
    {
     "data": {
      "text/html": [
       "<div>\n",
       "<style scoped>\n",
       "    .dataframe tbody tr th:only-of-type {\n",
       "        vertical-align: middle;\n",
       "    }\n",
       "\n",
       "    .dataframe tbody tr th {\n",
       "        vertical-align: top;\n",
       "    }\n",
       "\n",
       "    .dataframe thead th {\n",
       "        text-align: right;\n",
       "    }\n",
       "</style>\n",
       "<table border=\"1\" class=\"dataframe\">\n",
       "  <thead>\n",
       "    <tr style=\"text-align: right;\">\n",
       "      <th></th>\n",
       "      <th>idcliente</th>\n",
       "      <th>duration</th>\n",
       "      <th>previous</th>\n",
       "      <th>housing</th>\n",
       "      <th>campaign</th>\n",
       "      <th>loan</th>\n",
       "      <th>default</th>\n",
       "      <th>target</th>\n",
       "      <th>muestra</th>\n",
       "    </tr>\n",
       "  </thead>\n",
       "  <tbody>\n",
       "    <tr>\n",
       "      <th>0</th>\n",
       "      <td>1</td>\n",
       "      <td>261</td>\n",
       "      <td>0</td>\n",
       "      <td>1</td>\n",
       "      <td>1</td>\n",
       "      <td>0</td>\n",
       "      <td>0</td>\n",
       "      <td>0</td>\n",
       "      <td>1</td>\n",
       "    </tr>\n",
       "    <tr>\n",
       "      <th>1</th>\n",
       "      <td>2</td>\n",
       "      <td>50</td>\n",
       "      <td>0</td>\n",
       "      <td>1</td>\n",
       "      <td>1</td>\n",
       "      <td>0</td>\n",
       "      <td>0</td>\n",
       "      <td>0</td>\n",
       "      <td>1</td>\n",
       "    </tr>\n",
       "    <tr>\n",
       "      <th>2</th>\n",
       "      <td>3</td>\n",
       "      <td>1492</td>\n",
       "      <td>0</td>\n",
       "      <td>1</td>\n",
       "      <td>1</td>\n",
       "      <td>0</td>\n",
       "      <td>0</td>\n",
       "      <td>0</td>\n",
       "      <td>1</td>\n",
       "    </tr>\n",
       "    <tr>\n",
       "      <th>3</th>\n",
       "      <td>4</td>\n",
       "      <td>104</td>\n",
       "      <td>0</td>\n",
       "      <td>1</td>\n",
       "      <td>1</td>\n",
       "      <td>0</td>\n",
       "      <td>0</td>\n",
       "      <td>0</td>\n",
       "      <td>1</td>\n",
       "    </tr>\n",
       "    <tr>\n",
       "      <th>4</th>\n",
       "      <td>5</td>\n",
       "      <td>13</td>\n",
       "      <td>0</td>\n",
       "      <td>1</td>\n",
       "      <td>1</td>\n",
       "      <td>0</td>\n",
       "      <td>0</td>\n",
       "      <td>0</td>\n",
       "      <td>1</td>\n",
       "    </tr>\n",
       "  </tbody>\n",
       "</table>\n",
       "</div>"
      ],
      "text/plain": [
       "   idcliente  duration  previous  housing  campaign  loan  default  target  \\\n",
       "0          1       261         0        1         1     0        0       0   \n",
       "1          2        50         0        1         1     0        0       0   \n",
       "2          3      1492         0        1         1     0        0       0   \n",
       "3          4       104         0        1         1     0        0       0   \n",
       "4          5        13         0        1         1     0        0       0   \n",
       "\n",
       "   muestra  \n",
       "0        1  \n",
       "1        1  \n",
       "2        1  \n",
       "3        1  \n",
       "4        1  "
      ]
     },
     "execution_count": 4,
     "metadata": {},
     "output_type": "execute_result"
    }
   ],
   "source": [
    "data.head(5)"
   ]
  },
  {
   "cell_type": "code",
   "execution_count": 5,
   "metadata": {},
   "outputs": [
    {
     "data": {
      "text/plain": [
       "idcliente    int64\n",
       "duration     int64\n",
       "previous     int64\n",
       "housing      int64\n",
       "campaign     int64\n",
       "loan         int64\n",
       "default      int64\n",
       "target       int64\n",
       "muestra      int64\n",
       "dtype: object"
      ]
     },
     "execution_count": 5,
     "metadata": {},
     "output_type": "execute_result"
    }
   ],
   "source": [
    "data.dtypes"
   ]
  },
  {
   "cell_type": "code",
   "execution_count": 6,
   "metadata": {},
   "outputs": [],
   "source": [
    "data['housing'] = data['housing'].astype(object)\n",
    "data['loan'] = data['loan'].astype(object)\n",
    "data['default'] = data['default'].astype(object)"
   ]
  },
  {
   "cell_type": "code",
   "execution_count": 7,
   "metadata": {
    "scrolled": true
   },
   "outputs": [
    {
     "data": {
      "text/plain": [
       "idcliente     int64\n",
       "duration      int64\n",
       "previous      int64\n",
       "housing      object\n",
       "campaign      int64\n",
       "loan         object\n",
       "default      object\n",
       "target        int64\n",
       "muestra       int64\n",
       "dtype: object"
      ]
     },
     "execution_count": 7,
     "metadata": {},
     "output_type": "execute_result"
    }
   ],
   "source": [
    "data.dtypes"
   ]
  },
  {
   "cell_type": "code",
   "execution_count": 8,
   "metadata": {
    "scrolled": true
   },
   "outputs": [],
   "source": [
    "data['c_housing'] = LabelEncoder().fit_transform(data.housing.values)\n",
    "data['c_loan'] = LabelEncoder().fit_transform(data.loan.values)\n",
    "data['c_default'] = LabelEncoder().fit_transform(data.default.values)"
   ]
  },
  {
   "cell_type": "code",
   "execution_count": 9,
   "metadata": {},
   "outputs": [
    {
     "data": {
      "text/html": [
       "<div>\n",
       "<style scoped>\n",
       "    .dataframe tbody tr th:only-of-type {\n",
       "        vertical-align: middle;\n",
       "    }\n",
       "\n",
       "    .dataframe tbody tr th {\n",
       "        vertical-align: top;\n",
       "    }\n",
       "\n",
       "    .dataframe thead th {\n",
       "        text-align: right;\n",
       "    }\n",
       "</style>\n",
       "<table border=\"1\" class=\"dataframe\">\n",
       "  <thead>\n",
       "    <tr style=\"text-align: right;\">\n",
       "      <th></th>\n",
       "      <th>idcliente</th>\n",
       "      <th>duration</th>\n",
       "      <th>previous</th>\n",
       "      <th>housing</th>\n",
       "      <th>campaign</th>\n",
       "      <th>loan</th>\n",
       "      <th>default</th>\n",
       "      <th>target</th>\n",
       "      <th>muestra</th>\n",
       "      <th>c_housing</th>\n",
       "      <th>c_loan</th>\n",
       "      <th>c_default</th>\n",
       "    </tr>\n",
       "  </thead>\n",
       "  <tbody>\n",
       "    <tr>\n",
       "      <th>0</th>\n",
       "      <td>1</td>\n",
       "      <td>261</td>\n",
       "      <td>0</td>\n",
       "      <td>1</td>\n",
       "      <td>1</td>\n",
       "      <td>0</td>\n",
       "      <td>0</td>\n",
       "      <td>0</td>\n",
       "      <td>1</td>\n",
       "      <td>1</td>\n",
       "      <td>0</td>\n",
       "      <td>0</td>\n",
       "    </tr>\n",
       "    <tr>\n",
       "      <th>1</th>\n",
       "      <td>2</td>\n",
       "      <td>50</td>\n",
       "      <td>0</td>\n",
       "      <td>1</td>\n",
       "      <td>1</td>\n",
       "      <td>0</td>\n",
       "      <td>0</td>\n",
       "      <td>0</td>\n",
       "      <td>1</td>\n",
       "      <td>1</td>\n",
       "      <td>0</td>\n",
       "      <td>0</td>\n",
       "    </tr>\n",
       "    <tr>\n",
       "      <th>2</th>\n",
       "      <td>3</td>\n",
       "      <td>1492</td>\n",
       "      <td>0</td>\n",
       "      <td>1</td>\n",
       "      <td>1</td>\n",
       "      <td>0</td>\n",
       "      <td>0</td>\n",
       "      <td>0</td>\n",
       "      <td>1</td>\n",
       "      <td>1</td>\n",
       "      <td>0</td>\n",
       "      <td>0</td>\n",
       "    </tr>\n",
       "    <tr>\n",
       "      <th>3</th>\n",
       "      <td>4</td>\n",
       "      <td>104</td>\n",
       "      <td>0</td>\n",
       "      <td>1</td>\n",
       "      <td>1</td>\n",
       "      <td>0</td>\n",
       "      <td>0</td>\n",
       "      <td>0</td>\n",
       "      <td>1</td>\n",
       "      <td>1</td>\n",
       "      <td>0</td>\n",
       "      <td>0</td>\n",
       "    </tr>\n",
       "    <tr>\n",
       "      <th>4</th>\n",
       "      <td>5</td>\n",
       "      <td>13</td>\n",
       "      <td>0</td>\n",
       "      <td>1</td>\n",
       "      <td>1</td>\n",
       "      <td>0</td>\n",
       "      <td>0</td>\n",
       "      <td>0</td>\n",
       "      <td>1</td>\n",
       "      <td>1</td>\n",
       "      <td>0</td>\n",
       "      <td>0</td>\n",
       "    </tr>\n",
       "  </tbody>\n",
       "</table>\n",
       "</div>"
      ],
      "text/plain": [
       "   idcliente  duration  previous housing  campaign loan default  target  \\\n",
       "0          1       261         0       1         1    0       0       0   \n",
       "1          2        50         0       1         1    0       0       0   \n",
       "2          3      1492         0       1         1    0       0       0   \n",
       "3          4       104         0       1         1    0       0       0   \n",
       "4          5        13         0       1         1    0       0       0   \n",
       "\n",
       "   muestra  c_housing  c_loan  c_default  \n",
       "0        1          1       0          0  \n",
       "1        1          1       0          0  \n",
       "2        1          1       0          0  \n",
       "3        1          1       0          0  \n",
       "4        1          1       0          0  "
      ]
     },
     "execution_count": 9,
     "metadata": {},
     "output_type": "execute_result"
    }
   ],
   "source": [
    "data.head(5)"
   ]
  },
  {
   "cell_type": "code",
   "execution_count": 10,
   "metadata": {
    "scrolled": false
   },
   "outputs": [
    {
     "data": {
      "image/png": "[encoded data removed]",
      "text/plain": [
       "<Figure size 432x288 with 2 Axes>"
      ]
     },
     "metadata": {
      "needs_background": "light"
     },
     "output_type": "display_data"
    }
   ],
   "source": [
    "#Heatmap\n",
    "sns.heatmap(data.loc[:,['duration','previous','campaign']].corr())\n",
    "plt.show()"
   ]
  },
  {
   "cell_type": "code",
   "execution_count": 11,
   "metadata": {},
   "outputs": [],
   "source": [
    "#Normality test\n",
    "#Ho: the variable approximates a normal distribution\n",
    "#Ha: the variable does not approximate a normal distribution "
   ]
  },
  {
   "cell_type": "code",
   "execution_count": 12,
   "metadata": {},
   "outputs": [
    {
     "name": "stderr",
     "output_type": "stream",
     "text": [
      "C:\\Users\\Hernan\\AppData\\Roaming\\Python\\Python39\\site-packages\\scipy\\stats\\morestats.py:1681: UserWarning: p-value may not be accurate for N > 5000.\n",
      "  warnings.warn(\"p-value may not be accurate for N > 5000.\")\n"
     ]
    },
    {
     "data": {
      "text/plain": [
       "ShapiroResult(statistic=0.805237889289856, pvalue=0.0)"
      ]
     },
     "execution_count": 12,
     "metadata": {},
     "output_type": "execute_result"
    }
   ],
   "source": [
    "ss.shapiro(data.duration)"
   ]
  },
  {
   "cell_type": "code",
   "execution_count": 13,
   "metadata": {},
   "outputs": [
    {
     "data": {
      "text/plain": [
       "ShapiroResult(statistic=0.40508270263671875, pvalue=0.0)"
      ]
     },
     "execution_count": 13,
     "metadata": {},
     "output_type": "execute_result"
    }
   ],
   "source": [
    "ss.shapiro(data.previous)"
   ]
  },
  {
   "cell_type": "code",
   "execution_count": 14,
   "metadata": {},
   "outputs": [
    {
     "data": {
      "text/plain": [
       "ShapiroResult(statistic=0.5598044395446777, pvalue=0.0)"
      ]
     },
     "execution_count": 14,
     "metadata": {},
     "output_type": "execute_result"
    }
   ],
   "source": [
    "ss.shapiro(data.campaign)"
   ]
  },
  {
   "cell_type": "code",
   "execution_count": null,
   "metadata": {},
   "outputs": [],
   "source": [
    "# As the variables duration, previous and campaign have a p value <5%, the Ho is rejected\n",
    "# With a confidence level of 95%, the variables do not approximate a normal distribution "
   ]
  },
  {
   "cell_type": "code",
   "execution_count": 15,
   "metadata": {},
   "outputs": [],
   "source": [
    "# Correlation Test\n",
    "#Ho: there is no correlation between the variables\n",
    "#Ha: there is a correlation between the variables "
   ]
  },
  {
   "cell_type": "code",
   "execution_count": 16,
   "metadata": {},
   "outputs": [
    {
     "data": {
      "text/plain": [
       "SpearmanrResult(correlation=0.007391554527368723, pvalue=0.44717238462569875)"
      ]
     },
     "execution_count": 16,
     "metadata": {},
     "output_type": "execute_result"
    }
   ],
   "source": [
    "ss.spearmanr(data['duration'],data['previous'])"
   ]
  },
  {
   "cell_type": "code",
   "execution_count": 17,
   "metadata": {},
   "outputs": [
    {
     "data": {
      "text/plain": [
       "SpearmanrResult(correlation=-0.04511102781446181, pvalue=3.4596132567098772e-06)"
      ]
     },
     "execution_count": 17,
     "metadata": {},
     "output_type": "execute_result"
    }
   ],
   "source": [
    "ss.spearmanr(data['duration'],data['campaign'])"
   ]
  },
  {
   "cell_type": "code",
   "execution_count": 18,
   "metadata": {},
   "outputs": [
    {
     "data": {
      "text/plain": [
       "SpearmanrResult(correlation=-0.13337989612024528, pvalue=3.456139168446694e-43)"
      ]
     },
     "execution_count": 18,
     "metadata": {},
     "output_type": "execute_result"
    }
   ],
   "source": [
    "ss.spearmanr(data['previous'],data['campaign'])"
   ]
  },
  {
   "cell_type": "code",
   "execution_count": 19,
   "metadata": {
    "scrolled": false
   },
   "outputs": [
    {
     "data": {
      "text/html": [
       "<div>\n",
       "<style scoped>\n",
       "    .dataframe tbody tr th:only-of-type {\n",
       "        vertical-align: middle;\n",
       "    }\n",
       "\n",
       "    .dataframe tbody tr th {\n",
       "        vertical-align: top;\n",
       "    }\n",
       "\n",
       "    .dataframe thead th {\n",
       "        text-align: right;\n",
       "    }\n",
       "</style>\n",
       "<table border=\"1\" class=\"dataframe\">\n",
       "  <thead>\n",
       "    <tr style=\"text-align: right;\">\n",
       "      <th></th>\n",
       "      <th>duration</th>\n",
       "      <th>previous</th>\n",
       "      <th>campaign</th>\n",
       "    </tr>\n",
       "  </thead>\n",
       "  <tbody>\n",
       "    <tr>\n",
       "      <th>duration</th>\n",
       "      <td>1.000000</td>\n",
       "      <td>0.007392</td>\n",
       "      <td>-0.045111</td>\n",
       "    </tr>\n",
       "    <tr>\n",
       "      <th>previous</th>\n",
       "      <td>0.007392</td>\n",
       "      <td>1.000000</td>\n",
       "      <td>-0.133380</td>\n",
       "    </tr>\n",
       "    <tr>\n",
       "      <th>campaign</th>\n",
       "      <td>-0.045111</td>\n",
       "      <td>-0.133380</td>\n",
       "      <td>1.000000</td>\n",
       "    </tr>\n",
       "  </tbody>\n",
       "</table>\n",
       "</div>"
      ],
      "text/plain": [
       "          duration  previous  campaign\n",
       "duration  1.000000  0.007392 -0.045111\n",
       "previous  0.007392  1.000000 -0.133380\n",
       "campaign -0.045111 -0.133380  1.000000"
      ]
     },
     "execution_count": 19,
     "metadata": {},
     "output_type": "execute_result"
    }
   ],
   "source": [
    "data.loc[:,['duration','previous','campaign']].corr(method = \"spearman\")"
   ]
  },
  {
   "cell_type": "code",
   "execution_count": 20,
   "metadata": {
    "scrolled": true
   },
   "outputs": [
    {
     "data": {
      "text/plain": [
       "dtype('int64')"
      ]
     },
     "execution_count": 20,
     "metadata": {},
     "output_type": "execute_result"
    }
   ],
   "source": [
    "data['target'].dtype"
   ]
  },
  {
   "cell_type": "code",
   "execution_count": 21,
   "metadata": {},
   "outputs": [],
   "source": [
    "data['target'] = data['target'].astype('int64')"
   ]
  },
  {
   "cell_type": "code",
   "execution_count": 93,
   "metadata": {
    "scrolled": true
   },
   "outputs": [
    {
     "data": {
      "text/plain": [
       "dtype('int64')"
      ]
     },
     "execution_count": 93,
     "metadata": {},
     "output_type": "execute_result"
    }
   ],
   "source": [
    "data['target'].dtype"
   ]
  },
  {
   "cell_type": "code",
   "execution_count": 22,
   "metadata": {
    "scrolled": false
   },
   "outputs": [
    {
     "data": {
      "text/plain": [
       "0    5289\n",
       "1    5289\n",
       "Name: target, dtype: int64"
      ]
     },
     "execution_count": 22,
     "metadata": {},
     "output_type": "execute_result"
    }
   ],
   "source": [
    "data.target.value_counts()"
   ]
  },
  {
   "cell_type": "code",
   "execution_count": 23,
   "metadata": {
    "scrolled": true
   },
   "outputs": [
    {
     "data": {
      "text/plain": [
       "0    50.0\n",
       "1    50.0\n",
       "Name: target, dtype: float64"
      ]
     },
     "execution_count": 23,
     "metadata": {},
     "output_type": "execute_result"
    }
   ],
   "source": [
    "100*data['target'].value_counts(normalize=True)"
   ]
  },
  {
   "cell_type": "code",
   "execution_count": 3,
   "metadata": {
    "scrolled": true
   },
   "outputs": [
    {
     "data": {
      "image/png": "[encoded data removed]",
      "text/plain": [
       "<Figure size 432x288 with 1 Axes>"
      ]
     },
     "metadata": {
      "needs_background": "light"
     },
     "output_type": "display_data"
    }
   ],
   "source": [
    "sns.countplot(data = data, x = 'target')\n",
    "plt.xlabel('target', fontsize = 15)\n",
    "plt.title('¿How many users have accepted the term deposit campaign? ', fontsize = 15)\n",
    "plt.show()"
   ]
  },
  {
   "cell_type": "code",
   "execution_count": 25,
   "metadata": {
    "scrolled": false
   },
   "outputs": [
    {
     "data": {
      "image/png": "[encoded data removed]",
      "text/plain": [
       "<Figure size 432x288 with 1 Axes>"
      ]
     },
     "metadata": {
      "needs_background": "light"
     },
     "output_type": "display_data"
    }
   ],
   "source": [
    "sns.boxplot(x='target',y='duration',data=data)\n",
    "plt.show()"
   ]
  },
  {
   "cell_type": "code",
   "execution_count": 26,
   "metadata": {
    "scrolled": true
   },
   "outputs": [
    {
     "data": {
      "image/png": "[encoded data removed]",
      "text/plain": [
       "<Figure size 432x288 with 1 Axes>"
      ]
     },
     "metadata": {
      "needs_background": "light"
     },
     "output_type": "display_data"
    }
   ],
   "source": [
    "sns.boxplot(x='target',y='previous',data=data)\n",
    "plt.show()"
   ]
  },
  {
   "cell_type": "code",
   "execution_count": 99,
   "metadata": {
    "scrolled": false
   },
   "outputs": [
    {
     "data": {
      "image/png": "[encoded data removed]",
      "text/plain": [
       "<Figure size 432x288 with 1 Axes>"
      ]
     },
     "metadata": {
      "needs_background": "light"
     },
     "output_type": "display_data"
    }
   ],
   "source": [
    "sns.boxplot(x='target',y='campaign',data=data)\n",
    "plt.show()"
   ]
  },
  {
   "cell_type": "code",
   "execution_count": 27,
   "metadata": {
    "scrolled": true
   },
   "outputs": [
    {
     "name": "stdout",
     "output_type": "stream",
     "text": [
      "housing     0     1\n",
      "target             \n",
      "0        2176  3113\n",
      "1        3354  1935\n"
     ]
    },
    {
     "data": {
      "image/png": "[encoded data removed]",
      "text/plain": [
       "<Figure size 288x288 with 1 Axes>"
      ]
     },
     "metadata": {
      "needs_background": "light"
     },
     "output_type": "display_data"
    }
   ],
   "source": [
    "print(pd.crosstab(data[\"target\"],data[\"housing\"]))\n",
    "t = pd.crosstab(data[\"target\"],data[\"housing\"])\n",
    "t.div(t.sum(1).astype(float),axis=0).plot(kind=\"bar\",stacked=True,figsize=(4,4))\n",
    "plt.xlabel(\"target\")\n",
    "plt.ylabel(\"Percentage\")\n",
    "plt.show()"
   ]
  },
  {
   "cell_type": "code",
   "execution_count": 28,
   "metadata": {
    "scrolled": true
   },
   "outputs": [
    {
     "name": "stdout",
     "output_type": "stream",
     "text": [
      "loan       0    1\n",
      "target           \n",
      "0       4359  930\n",
      "1       4805  484\n"
     ]
    },
    {
     "data": {
      "image/png": "[encoded data removed]",
      "text/plain": [
       "<Figure size 288x288 with 1 Axes>"
      ]
     },
     "metadata": {
      "needs_background": "light"
     },
     "output_type": "display_data"
    }
   ],
   "source": [
    "print(pd.crosstab(data[\"target\"],data[\"loan\"]))\n",
    "t = pd.crosstab(data[\"target\"],data[\"loan\"])\n",
    "t.div(t.sum(1).astype(float),axis=0).plot(kind=\"bar\",stacked=True,figsize=(4,4))\n",
    "plt.xlabel(\"target\")\n",
    "plt.ylabel(\"Percentage\")\n",
    "plt.show()"
   ]
  },
  {
   "cell_type": "code",
   "execution_count": 29,
   "metadata": {
    "scrolled": true
   },
   "outputs": [
    {
     "name": "stdout",
     "output_type": "stream",
     "text": [
      "default     0   1\n",
      "target           \n",
      "0        5202  87\n",
      "1        5237  52\n"
     ]
    },
    {
     "data": {
      "image/png": "[encoded data removed]",
      "text/plain": [
       "<Figure size 288x288 with 1 Axes>"
      ]
     },
     "metadata": {
      "needs_background": "light"
     },
     "output_type": "display_data"
    }
   ],
   "source": [
    "print(pd.crosstab(data[\"target\"],data[\"default\"]))\n",
    "t = pd.crosstab(data[\"target\"],data[\"default\"])\n",
    "t.div(t.sum(1).astype(float),axis=0).plot(kind=\"bar\",stacked=True,figsize=(4,4))\n",
    "plt.xlabel(\"target\")\n",
    "plt.ylabel(\"Percentage\")\n",
    "plt.show()"
   ]
  },
  {
   "cell_type": "code",
   "execution_count": 30,
   "metadata": {},
   "outputs": [],
   "source": [
    "# Chi-Square Test\n",
    "#Ho: there is no dependency between the variables\n",
    "#Ha: there is dependency between variables "
   ]
  },
  {
   "cell_type": "code",
   "execution_count": 31,
   "metadata": {},
   "outputs": [
    {
     "name": "stdout",
     "output_type": "stream",
     "text": [
      "3.557728213453099e-116\n"
     ]
    }
   ],
   "source": [
    "contigencia = pd.crosstab(data['target'], data['housing']) \n",
    "c, p, dof, expected = chi2_contingency(contigencia) \n",
    "print(p)"
   ]
  },
  {
   "cell_type": "code",
   "execution_count": 32,
   "metadata": {},
   "outputs": [
    {
     "name": "stdout",
     "output_type": "stream",
     "text": [
      "4.921141785848781e-37\n"
     ]
    }
   ],
   "source": [
    "contigencia = pd.crosstab(data['target'], data['loan']) \n",
    "c, p, dof, expected = chi2_contingency(contigencia) \n",
    "print(p)"
   ]
  },
  {
   "cell_type": "code",
   "execution_count": 33,
   "metadata": {},
   "outputs": [
    {
     "name": "stdout",
     "output_type": "stream",
     "text": [
      "0.0036963177458966233\n"
     ]
    }
   ],
   "source": [
    "contigencia = pd.crosstab(data['target'], data['default']) \n",
    "c, p, dof, expected = chi2_contingency(contigencia) \n",
    "print(p)"
   ]
  },
  {
   "cell_type": "code",
   "execution_count": 34,
   "metadata": {},
   "outputs": [],
   "source": [
    "X = data[['c_housing','c_loan','c_default','duration','previous','campaign']]\n",
    "y = data['target']"
   ]
  },
  {
   "cell_type": "code",
   "execution_count": 35,
   "metadata": {},
   "outputs": [],
   "source": [
    "X = X.to_numpy()"
   ]
  },
  {
   "cell_type": "code",
   "execution_count": 36,
   "metadata": {
    "scrolled": false
   },
   "outputs": [
    {
     "data": {
      "text/plain": [
       "array([[   1,    0,    0,  261,    0,    1],\n",
       "       [   1,    0,    0,   50,    0,    1],\n",
       "       [   1,    0,    0, 1492,    0,    1],\n",
       "       [   1,    0,    0,  104,    0,    1],\n",
       "       [   1,    0,    0,   13,    0,    1]], dtype=int64)"
      ]
     },
     "execution_count": 36,
     "metadata": {},
     "output_type": "execute_result"
    }
   ],
   "source": [
    "X[0:5]"
   ]
  },
  {
   "cell_type": "code",
   "execution_count": 37,
   "metadata": {},
   "outputs": [],
   "source": [
    "y = y.to_numpy()"
   ]
  },
  {
   "cell_type": "code",
   "execution_count": 38,
   "metadata": {},
   "outputs": [
    {
     "data": {
      "text/plain": [
       "array([0, 0, 0, 0, 0], dtype=int64)"
      ]
     },
     "execution_count": 38,
     "metadata": {},
     "output_type": "execute_result"
    }
   ],
   "source": [
    "y[0:5]"
   ]
  },
  {
   "cell_type": "code",
   "execution_count": 39,
   "metadata": {},
   "outputs": [],
   "source": [
    "X_train, X_test, y_train, y_test = train_test_split(X, y, test_size = 0.20, random_state = 0)"
   ]
  },
  {
   "cell_type": "code",
   "execution_count": 40,
   "metadata": {},
   "outputs": [
    {
     "data": {
      "text/plain": [
       "array([[   1,    0,    1, 1080,    0,    1],\n",
       "       [   1,    0,    0,  204,    0,    1],\n",
       "       [   0,    0,    0,  140,    0,    9],\n",
       "       [   0,    0,    0,  373,    0,    1],\n",
       "       [   0,    0,    0,  194,    0,    2]], dtype=int64)"
      ]
     },
     "execution_count": 40,
     "metadata": {},
     "output_type": "execute_result"
    }
   ],
   "source": [
    "X_train[0:5]"
   ]
  },
  {
   "cell_type": "code",
   "execution_count": 41,
   "metadata": {},
   "outputs": [
    {
     "data": {
      "text/plain": [
       "array([[  0,   0,   0, 263,   1,   1],\n",
       "       [  0,   0,   0, 597,   0,   1],\n",
       "       [  0,   0,   0, 150,   0,   2],\n",
       "       [  0,   0,   0, 917,   0,   1],\n",
       "       [  1,   0,   0, 404,   3,   1]], dtype=int64)"
      ]
     },
     "execution_count": 41,
     "metadata": {},
     "output_type": "execute_result"
    }
   ],
   "source": [
    "X_test[0:5]"
   ]
  },
  {
   "cell_type": "code",
   "execution_count": 74,
   "metadata": {
    "scrolled": true
   },
   "outputs": [],
   "source": [
    "sc_x = StandardScaler()\n",
    "X_train = sc_x.fit_transform(X_train)\n",
    "X_test = sc_x.transform(X_test)"
   ]
  },
  {
   "cell_type": "code",
   "execution_count": 75,
   "metadata": {},
   "outputs": [
    {
     "data": {
      "text/plain": [
       "array([[ 1.05317258, -0.39338138,  8.48223295,  2.00876968, -0.36535588,\n",
       "        -0.56494305],\n",
       "       [ 1.05317258, -0.39338138, -0.11789348, -0.50165504, -0.36535588,\n",
       "        -0.56494305],\n",
       "       [-0.949512  , -0.39338138, -0.11789348, -0.68506507, -0.36535588,\n",
       "         2.41870374],\n",
       "       [-0.949512  , -0.39338138, -0.11789348, -0.01733795, -0.36535588,\n",
       "        -0.56494305],\n",
       "       [-0.949512  , -0.39338138, -0.11789348, -0.53031286, -0.36535588,\n",
       "        -0.1919872 ]])"
      ]
     },
     "execution_count": 75,
     "metadata": {},
     "output_type": "execute_result"
    }
   ],
   "source": [
    "X_train[0:5]"
   ]
  },
  {
   "cell_type": "code",
   "execution_count": 76,
   "metadata": {},
   "outputs": [
    {
     "data": {
      "text/plain": [
       "array([[-0.97941782, -0.39051946, -0.10482848, -0.32766412,  0.0864961 ,\n",
       "        -0.60853731],\n",
       "       [-0.97941782, -0.39051946, -0.10482848,  0.63785382, -0.38889546,\n",
       "        -0.60853731],\n",
       "       [-0.97941782, -0.39051946, -0.10482848, -0.65432139, -0.38889546,\n",
       "        -0.16846043],\n",
       "       [-0.97941782, -0.39051946, -0.10482848,  1.56290095, -0.38889546,\n",
       "        -0.60853731],\n",
       "       [ 1.02101471, -0.39051946, -0.10482848,  0.07993477,  1.03727923,\n",
       "        -0.60853731]])"
      ]
     },
     "execution_count": 76,
     "metadata": {},
     "output_type": "execute_result"
    }
   ],
   "source": [
    "X_test[0:5]"
   ]
  },
  {
   "cell_type": "code",
   "execution_count": 77,
   "metadata": {
    "scrolled": true
   },
   "outputs": [],
   "source": [
    "#SVM\n",
    "#classifier = SVC(kernel='linear',probability=True).fit(X_train, y_train)\n",
    "#classifier = SVC(kernel='poly',probability=True).fit(X_train, y_train)\n",
    "#classifier = SVC(kernel='rbf',probability=True).fit(X_train, y_train)\n",
    "#classifier = SVC(kernel='sigmoid',probability=True).fit(X_train, y_train)\n",
    "\n",
    "#linear => sensibilidad = 0.77,auc = 0.8664765945805317\n",
    "#poly => sensibilidad = 0.77,auc = 0.864721601612126\n",
    "#rbf => sensibilidad = 0.81,auc = 0.8644314868804666\n",
    "#sigmoid => sensibilidad = 0.69,auc = 0.7295107029538062"
   ]
  },
  {
   "cell_type": "code",
   "execution_count": 46,
   "metadata": {},
   "outputs": [],
   "source": [
    "# cross val\n",
    "cv_scores = cross_val_score(SVC(kernel='linear',probability=True),X_train,y_train,cv=5)"
   ]
  },
  {
   "cell_type": "code",
   "execution_count": 47,
   "metadata": {},
   "outputs": [
    {
     "name": "stdout",
     "output_type": "stream",
     "text": [
      "[0.76845836 0.79149439 0.78073286 0.79787234 0.78250591]\n"
     ]
    }
   ],
   "source": [
    "#Accuracy\n",
    "print(cv_scores)"
   ]
  },
  {
   "cell_type": "code",
   "execution_count": 48,
   "metadata": {},
   "outputs": [
    {
     "name": "stdout",
     "output_type": "stream",
     "text": [
      "cv_scores mean:0.7842127715429547\n"
     ]
    }
   ],
   "source": [
    "#Accuracy average\n",
    "print(\"cv_scores mean:{}\".format(np.mean(cv_scores)))"
   ]
  },
  {
   "cell_type": "code",
   "execution_count": 49,
   "metadata": {},
   "outputs": [],
   "source": [
    "#Tuning\n",
    "#param_grid = {'C': [0.1,1,10,100], 'gamma': [1,0.1,0.01,0.001],'kernel': ['rbf', 'poly', 'sigmoid']}\n",
    "param_grid = {'C': [0.1,1,10,100], 'gamma': [1,0.1,0.01,0.001],'kernel': ['rbf']}"
   ]
  },
  {
   "cell_type": "code",
   "execution_count": 50,
   "metadata": {
    "scrolled": true
   },
   "outputs": [
    {
     "name": "stdout",
     "output_type": "stream",
     "text": [
      "Fitting 5 folds for each of 16 candidates, totalling 80 fits\n",
      "[CV] END .........................C=0.1, gamma=1, kernel=rbf; total time=   4.8s\n",
      "[CV] END .........................C=0.1, gamma=1, kernel=rbf; total time=   5.0s\n",
      "[CV] END .........................C=0.1, gamma=1, kernel=rbf; total time=   4.4s\n",
      "[CV] END .........................C=0.1, gamma=1, kernel=rbf; total time=   4.9s\n",
      "[CV] END .........................C=0.1, gamma=1, kernel=rbf; total time=   4.9s\n",
      "[CV] END .......................C=0.1, gamma=0.1, kernel=rbf; total time=   4.4s\n",
      "[CV] END .......................C=0.1, gamma=0.1, kernel=rbf; total time=   4.3s\n",
      "[CV] END .......................C=0.1, gamma=0.1, kernel=rbf; total time=   4.2s\n",
      "[CV] END .......................C=0.1, gamma=0.1, kernel=rbf; total time=   4.3s\n",
      "[CV] END .......................C=0.1, gamma=0.1, kernel=rbf; total time=   4.2s\n",
      "[CV] END ......................C=0.1, gamma=0.01, kernel=rbf; total time=   5.1s\n",
      "[CV] END ......................C=0.1, gamma=0.01, kernel=rbf; total time=   5.0s\n",
      "[CV] END ......................C=0.1, gamma=0.01, kernel=rbf; total time=   5.0s\n",
      "[CV] END ......................C=0.1, gamma=0.01, kernel=rbf; total time=   5.1s\n",
      "[CV] END ......................C=0.1, gamma=0.01, kernel=rbf; total time=   5.0s\n",
      "[CV] END .....................C=0.1, gamma=0.001, kernel=rbf; total time=   6.9s\n",
      "[CV] END .....................C=0.1, gamma=0.001, kernel=rbf; total time=   7.6s\n",
      "[CV] END .....................C=0.1, gamma=0.001, kernel=rbf; total time=   7.0s\n",
      "[CV] END .....................C=0.1, gamma=0.001, kernel=rbf; total time=   6.9s\n",
      "[CV] END .....................C=0.1, gamma=0.001, kernel=rbf; total time=   6.9s\n",
      "[CV] END ...........................C=1, gamma=1, kernel=rbf; total time=   4.9s\n",
      "[CV] END ...........................C=1, gamma=1, kernel=rbf; total time=   4.2s\n",
      "[CV] END ...........................C=1, gamma=1, kernel=rbf; total time=   4.1s\n",
      "[CV] END ...........................C=1, gamma=1, kernel=rbf; total time=   4.2s\n",
      "[CV] END ...........................C=1, gamma=1, kernel=rbf; total time=   4.0s\n",
      "[CV] END .........................C=1, gamma=0.1, kernel=rbf; total time=   3.5s\n",
      "[CV] END .........................C=1, gamma=0.1, kernel=rbf; total time=   3.4s\n",
      "[CV] END .........................C=1, gamma=0.1, kernel=rbf; total time=   5.4s\n",
      "[CV] END .........................C=1, gamma=0.1, kernel=rbf; total time=   4.4s\n",
      "[CV] END .........................C=1, gamma=0.1, kernel=rbf; total time=   5.1s\n",
      "[CV] END ........................C=1, gamma=0.01, kernel=rbf; total time=   5.3s\n",
      "[CV] END ........................C=1, gamma=0.01, kernel=rbf; total time=   4.3s\n",
      "[CV] END ........................C=1, gamma=0.01, kernel=rbf; total time=   4.0s\n",
      "[CV] END ........................C=1, gamma=0.01, kernel=rbf; total time=   3.7s\n",
      "[CV] END ........................C=1, gamma=0.01, kernel=rbf; total time=   3.8s\n",
      "[CV] END .......................C=1, gamma=0.001, kernel=rbf; total time=   4.9s\n",
      "[CV] END .......................C=1, gamma=0.001, kernel=rbf; total time=   5.2s\n",
      "[CV] END .......................C=1, gamma=0.001, kernel=rbf; total time=   4.9s\n",
      "[CV] END .......................C=1, gamma=0.001, kernel=rbf; total time=   6.1s\n",
      "[CV] END .......................C=1, gamma=0.001, kernel=rbf; total time=   5.4s\n",
      "[CV] END ..........................C=10, gamma=1, kernel=rbf; total time=   6.3s\n",
      "[CV] END ..........................C=10, gamma=1, kernel=rbf; total time=   7.0s\n",
      "[CV] END ..........................C=10, gamma=1, kernel=rbf; total time=   7.5s\n",
      "[CV] END ..........................C=10, gamma=1, kernel=rbf; total time=   6.5s\n",
      "[CV] END ..........................C=10, gamma=1, kernel=rbf; total time=   6.2s\n",
      "[CV] END ........................C=10, gamma=0.1, kernel=rbf; total time=   4.5s\n",
      "[CV] END ........................C=10, gamma=0.1, kernel=rbf; total time=   4.2s\n",
      "[CV] END ........................C=10, gamma=0.1, kernel=rbf; total time=   4.2s\n",
      "[CV] END ........................C=10, gamma=0.1, kernel=rbf; total time=   4.3s\n",
      "[CV] END ........................C=10, gamma=0.1, kernel=rbf; total time=   4.1s\n",
      "[CV] END .......................C=10, gamma=0.01, kernel=rbf; total time=   3.8s\n",
      "[CV] END .......................C=10, gamma=0.01, kernel=rbf; total time=   3.8s\n",
      "[CV] END .......................C=10, gamma=0.01, kernel=rbf; total time=   3.7s\n",
      "[CV] END .......................C=10, gamma=0.01, kernel=rbf; total time=   3.7s\n",
      "[CV] END .......................C=10, gamma=0.01, kernel=rbf; total time=   3.7s\n",
      "[CV] END ......................C=10, gamma=0.001, kernel=rbf; total time=   3.9s\n",
      "[CV] END ......................C=10, gamma=0.001, kernel=rbf; total time=   4.0s\n",
      "[CV] END ......................C=10, gamma=0.001, kernel=rbf; total time=   4.9s\n",
      "[CV] END ......................C=10, gamma=0.001, kernel=rbf; total time=   5.4s\n",
      "[CV] END ......................C=10, gamma=0.001, kernel=rbf; total time=   4.9s\n",
      "[CV] END .........................C=100, gamma=1, kernel=rbf; total time=  12.8s\n",
      "[CV] END .........................C=100, gamma=1, kernel=rbf; total time=  16.8s\n",
      "[CV] END .........................C=100, gamma=1, kernel=rbf; total time=  15.6s\n",
      "[CV] END .........................C=100, gamma=1, kernel=rbf; total time=  15.7s\n",
      "[CV] END .........................C=100, gamma=1, kernel=rbf; total time=  11.8s\n",
      "[CV] END .......................C=100, gamma=0.1, kernel=rbf; total time=   5.1s\n",
      "[CV] END .......................C=100, gamma=0.1, kernel=rbf; total time=   5.3s\n",
      "[CV] END .......................C=100, gamma=0.1, kernel=rbf; total time=   5.2s\n",
      "[CV] END .......................C=100, gamma=0.1, kernel=rbf; total time=   5.2s\n",
      "[CV] END .......................C=100, gamma=0.1, kernel=rbf; total time=   5.2s\n",
      "[CV] END ......................C=100, gamma=0.01, kernel=rbf; total time=   3.9s\n",
      "[CV] END ......................C=100, gamma=0.01, kernel=rbf; total time=   4.2s\n",
      "[CV] END ......................C=100, gamma=0.01, kernel=rbf; total time=   3.9s\n",
      "[CV] END ......................C=100, gamma=0.01, kernel=rbf; total time=   4.2s\n",
      "[CV] END ......................C=100, gamma=0.01, kernel=rbf; total time=   4.2s\n",
      "[CV] END .....................C=100, gamma=0.001, kernel=rbf; total time=   3.7s\n",
      "[CV] END .....................C=100, gamma=0.001, kernel=rbf; total time=   3.8s\n",
      "[CV] END .....................C=100, gamma=0.001, kernel=rbf; total time=   3.8s\n",
      "[CV] END .....................C=100, gamma=0.001, kernel=rbf; total time=   4.5s\n",
      "[CV] END .....................C=100, gamma=0.001, kernel=rbf; total time=   4.7s\n"
     ]
    },
    {
     "data": {
      "text/plain": [
       "GridSearchCV(cv=5, estimator=SVC(),\n",
       "             param_grid={'C': [0.1, 1, 10, 100], 'gamma': [1, 0.1, 0.01, 0.001],\n",
       "                         'kernel': ['rbf']},\n",
       "             verbose=2)"
      ]
     },
     "execution_count": 50,
     "metadata": {},
     "output_type": "execute_result"
    }
   ],
   "source": [
    "grid = GridSearchCV(SVC(),param_grid,refit=True,verbose=2,cv=5)\n",
    "grid.fit(X_train,y_train)"
   ]
  },
  {
   "cell_type": "code",
   "execution_count": 78,
   "metadata": {
    "scrolled": true
   },
   "outputs": [
    {
     "name": "stdout",
     "output_type": "stream",
     "text": [
      "SVC(C=100, gamma=0.1)\n"
     ]
    }
   ],
   "source": [
    "print(grid.best_estimator_)"
   ]
  },
  {
   "cell_type": "code",
   "execution_count": 79,
   "metadata": {},
   "outputs": [],
   "source": [
    "#SVM\n",
    "classifier = SVC(kernel='rbf',C = 100,gamma = 0.1,probability=True).fit(X_train, y_train)"
   ]
  },
  {
   "cell_type": "code",
   "execution_count": 80,
   "metadata": {},
   "outputs": [],
   "source": [
    "y_pred = classifier.predict(X_test)"
   ]
  },
  {
   "cell_type": "code",
   "execution_count": 81,
   "metadata": {},
   "outputs": [
    {
     "data": {
      "text/plain": [
       "array([1, 1, 0, 1, 1, 0, 1, 0, 1, 1, 1, 1, 0, 0, 0, 0, 1, 0, 0, 1],\n",
       "      dtype=int64)"
      ]
     },
     "execution_count": 81,
     "metadata": {},
     "output_type": "execute_result"
    }
   ],
   "source": [
    "y_pred[0:20]"
   ]
  },
  {
   "cell_type": "code",
   "execution_count": 82,
   "metadata": {},
   "outputs": [
    {
     "data": {
      "text/plain": [
       "array([1, 1, 0, 1, 1, 0, 1, 0, 0, 1, 1, 1, 0, 0, 1, 0, 0, 0, 1, 1],\n",
       "      dtype=int64)"
      ]
     },
     "execution_count": 82,
     "metadata": {},
     "output_type": "execute_result"
    }
   ],
   "source": [
    "y_test[0:20]"
   ]
  },
  {
   "cell_type": "code",
   "execution_count": 83,
   "metadata": {},
   "outputs": [
    {
     "data": {
      "text/plain": [
       "array([[815, 214],\n",
       "       [202, 885]], dtype=int64)"
      ]
     },
     "execution_count": 83,
     "metadata": {},
     "output_type": "execute_result"
    }
   ],
   "source": [
    "confusion_matrix(y_test, y_pred)"
   ]
  },
  {
   "cell_type": "code",
   "execution_count": 84,
   "metadata": {},
   "outputs": [
    {
     "name": "stdout",
     "output_type": "stream",
     "text": [
      "Confusion matrix, without normalization\n",
      "[[815 214]\n",
      " [202 885]]\n",
      "Normalized confusion matrix\n",
      "[[0.7920311  0.2079689 ]\n",
      " [0.18583257 0.81416743]]\n"
     ]
    },
    {
     "data": {
      "image/png": "[encoded data removed]",
      "text/plain": [
       "<Figure size 432x288 with 2 Axes>"
      ]
     },
     "metadata": {
      "needs_background": "light"
     },
     "output_type": "display_data"
    },
    {
     "data": {
      "image/png": "[encoded data removed]",
      "text/plain": [
       "<Figure size 432x288 with 2 Axes>"
      ]
     },
     "metadata": {
      "needs_background": "light"
     },
     "output_type": "display_data"
    }
   ],
   "source": [
    "# Plot non-normalized confusion matrix\n",
    "titles_options = [(\"Confusion matrix, without normalization\", None),\n",
    "                  (\"Normalized confusion matrix\", 'true')]\n",
    "for title, normalize in titles_options:\n",
    "    disp = plot_confusion_matrix(classifier, X_test, y_test,\n",
    "                                 #display_labels=y_test,\n",
    "                                 cmap=plt.cm.Blues,\n",
    "                                 normalize=normalize)\n",
    "    disp.ax_.set_title(title)\n",
    "\n",
    "    print(title)\n",
    "    print(disp.confusion_matrix)\n",
    "\n",
    "plt.show()"
   ]
  },
  {
   "cell_type": "code",
   "execution_count": 85,
   "metadata": {},
   "outputs": [],
   "source": [
    "y_pred_prob = classifier.predict_proba(X_test)"
   ]
  },
  {
   "cell_type": "code",
   "execution_count": 86,
   "metadata": {},
   "outputs": [
    {
     "data": {
      "text/plain": [
       "array([[0.11313018, 0.88686982],\n",
       "       [0.16782963, 0.83217037],\n",
       "       [0.72904563, 0.27095437],\n",
       "       [0.19996329, 0.80003671],\n",
       "       [0.12733248, 0.87266752]])"
      ]
     },
     "execution_count": 86,
     "metadata": {},
     "output_type": "execute_result"
    }
   ],
   "source": [
    "y_pred_prob[0:5]"
   ]
  },
  {
   "cell_type": "code",
   "execution_count": 87,
   "metadata": {},
   "outputs": [
    {
     "data": {
      "text/plain": [
       "array([0.88686982, 0.83217037, 0.27095437, 0.80003671, 0.87266752])"
      ]
     },
     "execution_count": 87,
     "metadata": {},
     "output_type": "execute_result"
    }
   ],
   "source": [
    "y_pred_prob[0:5,1]"
   ]
  },
  {
   "cell_type": "code",
   "execution_count": 88,
   "metadata": {},
   "outputs": [],
   "source": [
    "false_positive_rate, true_positive_rate, thresholds = roc_curve(y_test, y_pred_prob[:,1])"
   ]
  },
  {
   "cell_type": "code",
   "execution_count": 89,
   "metadata": {},
   "outputs": [
    {
     "data": {
      "text/plain": [
       "0.8606729588931118"
      ]
     },
     "execution_count": 89,
     "metadata": {},
     "output_type": "execute_result"
    }
   ],
   "source": [
    "roc_auc = auc(false_positive_rate, true_positive_rate)\n",
    "roc_auc"
   ]
  },
  {
   "cell_type": "code",
   "execution_count": 90,
   "metadata": {},
   "outputs": [
    {
     "data": {
      "image/png": "[encoded data removed]",
      "text/plain": [
       "<Figure size 432x288 with 1 Axes>"
      ]
     },
     "metadata": {
      "needs_background": "light"
     },
     "output_type": "display_data"
    }
   ],
   "source": [
    "plt.title('Receiver Operating Characteristic')\n",
    "plt.plot(false_positive_rate,true_positive_rate, color='red',label = 'AUC = %0.2f' % roc_auc)\n",
    "plt.legend(loc = 'lower right')\n",
    "plt.plot([0, 1], [0, 1],linestyle='--')\n",
    "plt.axis('tight')\n",
    "plt.ylabel('True Positive Rate')\n",
    "plt.xlabel('False Positive Rate')\n",
    "plt.show()"
   ]
  },
  {
   "cell_type": "code",
   "execution_count": 91,
   "metadata": {},
   "outputs": [
    {
     "name": "stdout",
     "output_type": "stream",
     "text": [
      "              precision    recall  f1-score   support\n",
      "\n",
      "           0       0.80      0.79      0.80      1029\n",
      "           1       0.81      0.81      0.81      1087\n",
      "\n",
      "    accuracy                           0.80      2116\n",
      "   macro avg       0.80      0.80      0.80      2116\n",
      "weighted avg       0.80      0.80      0.80      2116\n",
      "\n"
     ]
    }
   ],
   "source": [
    "print(classification_report(y_test, y_pred))"
   ]
  },
  {
   "cell_type": "code",
   "execution_count": 92,
   "metadata": {},
   "outputs": [],
   "source": [
    "dataf = pd.concat([pd.DataFrame(X_test),pd.DataFrame(y_test),pd.DataFrame(y_pred),pd.DataFrame(y_pred_prob)],axis=1)"
   ]
  },
  {
   "cell_type": "code",
   "execution_count": 93,
   "metadata": {},
   "outputs": [
    {
     "data": {
      "text/html": [
       "<div>\n",
       "<style scoped>\n",
       "    .dataframe tbody tr th:only-of-type {\n",
       "        vertical-align: middle;\n",
       "    }\n",
       "\n",
       "    .dataframe tbody tr th {\n",
       "        vertical-align: top;\n",
       "    }\n",
       "\n",
       "    .dataframe thead th {\n",
       "        text-align: right;\n",
       "    }\n",
       "</style>\n",
       "<table border=\"1\" class=\"dataframe\">\n",
       "  <thead>\n",
       "    <tr style=\"text-align: right;\">\n",
       "      <th></th>\n",
       "      <th>0</th>\n",
       "      <th>1</th>\n",
       "      <th>2</th>\n",
       "      <th>3</th>\n",
       "      <th>4</th>\n",
       "      <th>5</th>\n",
       "      <th>0</th>\n",
       "      <th>0</th>\n",
       "      <th>0</th>\n",
       "      <th>1</th>\n",
       "    </tr>\n",
       "  </thead>\n",
       "  <tbody>\n",
       "    <tr>\n",
       "      <th>0</th>\n",
       "      <td>-0.979418</td>\n",
       "      <td>-0.390519</td>\n",
       "      <td>-0.104828</td>\n",
       "      <td>-0.327664</td>\n",
       "      <td>0.086496</td>\n",
       "      <td>-0.608537</td>\n",
       "      <td>1</td>\n",
       "      <td>1</td>\n",
       "      <td>0.113130</td>\n",
       "      <td>0.886870</td>\n",
       "    </tr>\n",
       "    <tr>\n",
       "      <th>1</th>\n",
       "      <td>-0.979418</td>\n",
       "      <td>-0.390519</td>\n",
       "      <td>-0.104828</td>\n",
       "      <td>0.637854</td>\n",
       "      <td>-0.388895</td>\n",
       "      <td>-0.608537</td>\n",
       "      <td>1</td>\n",
       "      <td>1</td>\n",
       "      <td>0.167830</td>\n",
       "      <td>0.832170</td>\n",
       "    </tr>\n",
       "    <tr>\n",
       "      <th>2</th>\n",
       "      <td>-0.979418</td>\n",
       "      <td>-0.390519</td>\n",
       "      <td>-0.104828</td>\n",
       "      <td>-0.654321</td>\n",
       "      <td>-0.388895</td>\n",
       "      <td>-0.168460</td>\n",
       "      <td>0</td>\n",
       "      <td>0</td>\n",
       "      <td>0.729046</td>\n",
       "      <td>0.270954</td>\n",
       "    </tr>\n",
       "    <tr>\n",
       "      <th>3</th>\n",
       "      <td>-0.979418</td>\n",
       "      <td>-0.390519</td>\n",
       "      <td>-0.104828</td>\n",
       "      <td>1.562901</td>\n",
       "      <td>-0.388895</td>\n",
       "      <td>-0.608537</td>\n",
       "      <td>1</td>\n",
       "      <td>1</td>\n",
       "      <td>0.199963</td>\n",
       "      <td>0.800037</td>\n",
       "    </tr>\n",
       "    <tr>\n",
       "      <th>4</th>\n",
       "      <td>1.021015</td>\n",
       "      <td>-0.390519</td>\n",
       "      <td>-0.104828</td>\n",
       "      <td>0.079935</td>\n",
       "      <td>1.037279</td>\n",
       "      <td>-0.608537</td>\n",
       "      <td>1</td>\n",
       "      <td>1</td>\n",
       "      <td>0.127332</td>\n",
       "      <td>0.872668</td>\n",
       "    </tr>\n",
       "  </tbody>\n",
       "</table>\n",
       "</div>"
      ],
      "text/plain": [
       "          0         1         2         3         4         5  0  0         0  \\\n",
       "0 -0.979418 -0.390519 -0.104828 -0.327664  0.086496 -0.608537  1  1  0.113130   \n",
       "1 -0.979418 -0.390519 -0.104828  0.637854 -0.388895 -0.608537  1  1  0.167830   \n",
       "2 -0.979418 -0.390519 -0.104828 -0.654321 -0.388895 -0.168460  0  0  0.729046   \n",
       "3 -0.979418 -0.390519 -0.104828  1.562901 -0.388895 -0.608537  1  1  0.199963   \n",
       "4  1.021015 -0.390519 -0.104828  0.079935  1.037279 -0.608537  1  1  0.127332   \n",
       "\n",
       "          1  \n",
       "0  0.886870  \n",
       "1  0.832170  \n",
       "2  0.270954  \n",
       "3  0.800037  \n",
       "4  0.872668  "
      ]
     },
     "execution_count": 93,
     "metadata": {},
     "output_type": "execute_result"
    }
   ],
   "source": [
    "dataf.head(5)"
   ]
  },
  {
   "cell_type": "code",
   "execution_count": 94,
   "metadata": {},
   "outputs": [],
   "source": [
    "dataf.columns = ['c_housing','c_loan','c_default','duration','previous','campaign','Target','Target_Pred','Target_Pred_Prob_0','Target_Pred_Prob_1']"
   ]
  },
  {
   "cell_type": "code",
   "execution_count": 95,
   "metadata": {
    "scrolled": true
   },
   "outputs": [
    {
     "data": {
      "text/html": [
       "<div>\n",
       "<style scoped>\n",
       "    .dataframe tbody tr th:only-of-type {\n",
       "        vertical-align: middle;\n",
       "    }\n",
       "\n",
       "    .dataframe tbody tr th {\n",
       "        vertical-align: top;\n",
       "    }\n",
       "\n",
       "    .dataframe thead th {\n",
       "        text-align: right;\n",
       "    }\n",
       "</style>\n",
       "<table border=\"1\" class=\"dataframe\">\n",
       "  <thead>\n",
       "    <tr style=\"text-align: right;\">\n",
       "      <th></th>\n",
       "      <th>c_housing</th>\n",
       "      <th>c_loan</th>\n",
       "      <th>c_default</th>\n",
       "      <th>duration</th>\n",
       "      <th>previous</th>\n",
       "      <th>campaign</th>\n",
       "      <th>Target</th>\n",
       "      <th>Target_Pred</th>\n",
       "      <th>Target_Pred_Prob_0</th>\n",
       "      <th>Target_Pred_Prob_1</th>\n",
       "    </tr>\n",
       "  </thead>\n",
       "  <tbody>\n",
       "    <tr>\n",
       "      <th>0</th>\n",
       "      <td>-0.979418</td>\n",
       "      <td>-0.390519</td>\n",
       "      <td>-0.104828</td>\n",
       "      <td>-0.327664</td>\n",
       "      <td>0.086496</td>\n",
       "      <td>-0.608537</td>\n",
       "      <td>1</td>\n",
       "      <td>1</td>\n",
       "      <td>0.113130</td>\n",
       "      <td>0.886870</td>\n",
       "    </tr>\n",
       "    <tr>\n",
       "      <th>1</th>\n",
       "      <td>-0.979418</td>\n",
       "      <td>-0.390519</td>\n",
       "      <td>-0.104828</td>\n",
       "      <td>0.637854</td>\n",
       "      <td>-0.388895</td>\n",
       "      <td>-0.608537</td>\n",
       "      <td>1</td>\n",
       "      <td>1</td>\n",
       "      <td>0.167830</td>\n",
       "      <td>0.832170</td>\n",
       "    </tr>\n",
       "    <tr>\n",
       "      <th>2</th>\n",
       "      <td>-0.979418</td>\n",
       "      <td>-0.390519</td>\n",
       "      <td>-0.104828</td>\n",
       "      <td>-0.654321</td>\n",
       "      <td>-0.388895</td>\n",
       "      <td>-0.168460</td>\n",
       "      <td>0</td>\n",
       "      <td>0</td>\n",
       "      <td>0.729046</td>\n",
       "      <td>0.270954</td>\n",
       "    </tr>\n",
       "    <tr>\n",
       "      <th>3</th>\n",
       "      <td>-0.979418</td>\n",
       "      <td>-0.390519</td>\n",
       "      <td>-0.104828</td>\n",
       "      <td>1.562901</td>\n",
       "      <td>-0.388895</td>\n",
       "      <td>-0.608537</td>\n",
       "      <td>1</td>\n",
       "      <td>1</td>\n",
       "      <td>0.199963</td>\n",
       "      <td>0.800037</td>\n",
       "    </tr>\n",
       "    <tr>\n",
       "      <th>4</th>\n",
       "      <td>1.021015</td>\n",
       "      <td>-0.390519</td>\n",
       "      <td>-0.104828</td>\n",
       "      <td>0.079935</td>\n",
       "      <td>1.037279</td>\n",
       "      <td>-0.608537</td>\n",
       "      <td>1</td>\n",
       "      <td>1</td>\n",
       "      <td>0.127332</td>\n",
       "      <td>0.872668</td>\n",
       "    </tr>\n",
       "  </tbody>\n",
       "</table>\n",
       "</div>"
      ],
      "text/plain": [
       "   c_housing    c_loan  c_default  duration  previous  campaign  Target  \\\n",
       "0  -0.979418 -0.390519  -0.104828 -0.327664  0.086496 -0.608537       1   \n",
       "1  -0.979418 -0.390519  -0.104828  0.637854 -0.388895 -0.608537       1   \n",
       "2  -0.979418 -0.390519  -0.104828 -0.654321 -0.388895 -0.168460       0   \n",
       "3  -0.979418 -0.390519  -0.104828  1.562901 -0.388895 -0.608537       1   \n",
       "4   1.021015 -0.390519  -0.104828  0.079935  1.037279 -0.608537       1   \n",
       "\n",
       "   Target_Pred  Target_Pred_Prob_0  Target_Pred_Prob_1  \n",
       "0            1            0.113130            0.886870  \n",
       "1            1            0.167830            0.832170  \n",
       "2            0            0.729046            0.270954  \n",
       "3            1            0.199963            0.800037  \n",
       "4            1            0.127332            0.872668  "
      ]
     },
     "execution_count": 95,
     "metadata": {},
     "output_type": "execute_result"
    }
   ],
   "source": [
    "dataf.head(5)"
   ]
  },
  {
   "cell_type": "code",
   "execution_count": 96,
   "metadata": {
    "scrolled": true
   },
   "outputs": [
    {
     "data": {
      "text/plain": [
       "0.2    0.145155\n",
       "0.4    0.312643\n",
       "0.6    0.720231\n",
       "0.8    0.834902\n",
       "Name: Target_Pred_Prob_1, dtype: float64"
      ]
     },
     "execution_count": 96,
     "metadata": {},
     "output_type": "execute_result"
    }
   ],
   "source": [
    "quantiles = dataf['Target_Pred_Prob_1'].quantile(q=[0.20,0.40,0.60,0.80])\n",
    "quantiles"
   ]
  },
  {
   "cell_type": "code",
   "execution_count": null,
   "metadata": {},
   "outputs": [],
   "source": [
    "dataf.to_csv('dataf.csv', index = False)"
   ]
  }
 ],
 "metadata": {
  "kernelspec": {
   "display_name": "Python 3",
   "language": "python",
   "name": "python3"
  },
  "language_info": {
   "codemirror_mode": {
    "name": "ipython",
    "version": 3
   },
   "file_extension": ".py",
   "mimetype": "text/x-python",
   "name": "python",
   "nbconvert_exporter": "python",
   "pygments_lexer": "ipython3",
   "version": "3.9.5"
  }
 },
 "nbformat": 4,
 "nbformat_minor": 4
}
